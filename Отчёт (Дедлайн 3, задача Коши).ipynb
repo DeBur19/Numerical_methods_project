{
 "cells": [
  {
   "cell_type": "markdown",
   "metadata": {},
   "source": [
    "Реализована явная схема Адамса для решения задачи Коши с двумя уравнениями первого порядка ($u'=f(t, u),\\:u(0)=u(t_0)=u_0$): $u_{k+1}=u_k + \\tau (\\frac{3}{2}f_k - \\frac{1}{2}f_{k-1}),\\:k = 1,..., n - 1$, где $\\tau=t_{i+1} - t_i,\\:f_k=f(t_k, u_k),\\:u_k=u(t_k)$. $t_k:\\:k=0,...,n,\\:t_0=0,\\:t_n=T$. Для этой схемы требуется сначала найти $u_1$, для этого используется явная схема Эйлера: $u_1 = u_0 + \\tau f(t_0, u_0)$."
   ]
  },
  {
   "cell_type": "code",
   "execution_count": 19,
   "metadata": {},
   "outputs": [],
   "source": [
    "%matplotlib inline\n",
    "import numpy as np\n",
    "import matplotlib.pyplot as plt\n",
    "\n",
    "def Koshi_Adams(t_, f_0, f_1, u_0):\n",
    "    '''\n",
    "    t_ - значения t_i\n",
    "    f_0, f_1 - правые части первого и второго уравнений соответсвенно \n",
    "    (функции, принимающие одно число t и массив из двух значений u)\n",
    "    u_0 - начальные условия\n",
    "    '''\n",
    "    t = np.array(t_)\n",
    "    n = t.shape[0]\n",
    "    tao = t[1] - t[0]\n",
    "    u = np.empty((2, n))\n",
    "    u[:, 0] = np.reshape(u_0, (2))\n",
    "    f0 = np.array([f_0(t[0], u_0), f_1(t[0], u_0)])\n",
    "    f1 = np.empty(2)\n",
    "    # вычислим u_1 с помощью явной схемы Эйлера\n",
    "    u[:, 1] = u[:, 0] + tao * f0\n",
    "    # вычислим остальные значения u_k с помощью явной схемы Адамса\n",
    "    for k in range(1, n - 1):\n",
    "        f1 = np.array([f_0(t[k], u[:, k]), f_1(t[k], u[:, k])])\n",
    "        u[:, k + 1] = u[:, k] + (tao / 2) * (3 * f1 - f0)\n",
    "        f0, f1 = f1, f0\n",
    "    return u"
   ]
  }
 ],
 "metadata": {
  "kernelspec": {
   "display_name": "Python 3",
   "language": "python",
   "name": "python3"
  },
  "language_info": {
   "codemirror_mode": {
    "name": "ipython",
    "version": 3
   },
   "file_extension": ".py",
   "mimetype": "text/x-python",
   "name": "python",
   "nbconvert_exporter": "python",
   "pygments_lexer": "ipython3",
   "version": "3.6.5"
  }
 },
 "nbformat": 4,
 "nbformat_minor": 2
}
